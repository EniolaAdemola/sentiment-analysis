{
 "cells": [
  {
   "cell_type": "markdown",
   "metadata": {},
   "source": [
    "# Sentiment Analysis\n",
    "\n",
    "This notebook goes through a basic exploratory data analysis of the Cardiovascular dataset and the Machine Learning Algorithms with Python and in this project i will be working with the [Cardiovascular Data Set from Kaggle](https://www.kaggle.com/datasets/yasserh/heart-disease-dataset). We would be predicting the likelihood of a patient having a cardiovascular disease.\n",
    "\n",
    "Let's begin our understanding of exploratory data analysis of the  [Cardiovascular Data Set from Kaggle](https://www.kaggle.com/datasets/yasserh/heart-disease-dataset). with Python then implementing some Machine Learning Algorithm in Python for classification and Prediction.\n",
    "\n",
    "### About the Data set\n",
    ">The dataset provided contains information related to heart / cardiovascular disease, consisting of 14 columns. The target variable represents the class and is influenced by the other 13 columns. The objective of this study is to classify the target variable into disease and non-disease categories using various machine learning algorithms, with the aim of determining the most suitable algorithm for this specific dataset.\n",
    "\n",
    "### Attribute Information\n",
    "\n",
    "\n",
    "- Age (age in years)\n",
    "- Sex (1 = male; 0 = female)\n"
   ]
  },
  {
   "cell_type": "code",
   "execution_count": null,
   "metadata": {},
   "outputs": [],
   "source": []
  },
  {
   "cell_type": "code",
   "execution_count": null,
   "metadata": {},
   "outputs": [],
   "source": []
  },
  {
   "cell_type": "code",
   "execution_count": null,
   "metadata": {},
   "outputs": [],
   "source": [
    "# Basic Import\n",
    "import time, datetime # to track our Time Complexity\n",
    "import os # accessing directory structure\n",
    "import numpy as np # linear algebra\n",
    "import pandas as pd # data processing, CSV file I/O (e.g. pd.read_csv)\n",
    "import matplotlib.pyplot as plt # for plotting\n",
    "import seaborn as sns # for Visualizing our data\n",
    "sns.set_style('whitegrid') # change seaborn style to white grid\n",
    "\n",
    "\n",
    "# Preprocessing\n",
    "from sklearn.preprocessing import LabelEncoder\n",
    "from sklearn.model_selection import train_test_split\n",
    "\n",
    "\n",
    "# MACHINE LEARNING ALGORITHMS\n",
    "\n",
    "\n",
    "# For Metrics Performance and Result Check\n",
    "from sklearn.model_selection import GridSearchCV\n",
    "from sklearn.metrics import confusion_matrix, classification_report,accuracy_score, f1_score, precision_score, recall_score\n",
    "from sklearn.metrics import ConfusionMatrixDisplay\n",
    "# from sklearn import model_selection, tree, preprocessing, metrics, linear_model\n",
    "\n",
    "# for dumping our model\n",
    "import pickle\n",
    "\n",
    "#Import Dependencies\n",
    "%matplotlib inline"
   ]
  }
 ],
 "metadata": {
  "kernelspec": {
   "display_name": "Python 3 (ipykernel)",
   "language": "python",
   "name": "python3"
  },
  "language_info": {
   "codemirror_mode": {
    "name": "ipython",
    "version": 3
   },
   "file_extension": ".py",
   "mimetype": "text/x-python",
   "name": "python",
   "nbconvert_exporter": "python",
   "pygments_lexer": "ipython3",
   "version": "3.9.13"
  }
 },
 "nbformat": 4,
 "nbformat_minor": 2
}
